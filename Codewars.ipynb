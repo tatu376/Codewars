{
  "nbformat": 4,
  "nbformat_minor": 0,
  "metadata": {
    "colab": {
      "name": "Codewars.ipynb",
      "provenance": [],
      "collapsed_sections": []
    },
    "kernelspec": {
      "name": "python3",
      "display_name": "Python 3"
    }
  },
  "cells": [
    {
      "cell_type": "code",
      "metadata": {
        "id": "yzgtjHeh0bZo",
        "colab_type": "code",
        "colab": {}
      },
      "source": [
        "import numpy as np"
      ],
      "execution_count": 0,
      "outputs": []
    },
    {
      "cell_type": "markdown",
      "metadata": {
        "id": "ZZbA9ukm0eZW",
        "colab_type": "text"
      },
      "source": [
        "#Narcissistic number\n",
        "\n",
        "Instruction:\n",
        "\n",
        "A Narcissistic Number is a number which is the sum of its own digits, each raised to the power of the number of digits in a given base. In this Kata, we will restrict ourselves to decimal (base 10).\n",
        "\n",
        "For example, take 153 (3 digits):\n",
        "\n",
        "    1^3 + 5^3 + 3^3 = 1 + 125 + 27 = 153\n",
        "and 1634 (4 digits):\n",
        "\n",
        "    1^4 + 6^4 + 3^4 + 4^4 = 1 + 1296 + 81 + 256 = 1634\n",
        "The Challenge:\n",
        "\n",
        "Your code must return true or false depending upon whether the given number is a Narcissistic number in base 10.\n",
        "\n",
        "Error checking for text strings or other invalid inputs is not required, only valid integers will be passed into the function."
      ]
    },
    {
      "cell_type": "code",
      "metadata": {
        "id": "uBJ6lizO0NNx",
        "colab_type": "code",
        "colab": {}
      },
      "source": [
        "#My solution:\n",
        "def narcissistic( value ):\n",
        "    sum_dig = 0\n",
        "    digits = [int(i) for i in str(value)]      #return each digit in value, ex: return [3,7] for value = 37\n",
        "    power  = len(digits)\n",
        "\n",
        "    for i in range(len(digits)):\n",
        "        sum_dig += digits[i]**power\n",
        "        \n",
        "    return (sum_dig == value)\n",
        "\n",
        "#Codewars Solution:\n",
        "def narcissistic(value):\n",
        "    return value == sum(int(x) ** len(str(value)) for x in str(value))  ##str is iterable"
      ],
      "execution_count": 0,
      "outputs": []
    },
    {
      "cell_type": "code",
      "metadata": {
        "id": "6Aur4QGa0x_h",
        "colab_type": "code",
        "outputId": "59f5ee37-2726-4fcd-a104-0717b82220d2",
        "colab": {
          "base_uri": "https://localhost:8080/",
          "height": 34
        }
      },
      "source": [
        "narcissistic(1634)"
      ],
      "execution_count": 0,
      "outputs": [
        {
          "output_type": "execute_result",
          "data": {
            "text/plain": [
              "True"
            ]
          },
          "metadata": {
            "tags": []
          },
          "execution_count": 12
        }
      ]
    },
    {
      "cell_type": "markdown",
      "metadata": {
        "id": "XsuScJNI1I4j",
        "colab_type": "text"
      },
      "source": [
        "#Counting Duplicates:\n",
        "\n",
        "**Instruction:**\n",
        "\n",
        "Count the number of Duplicates\n",
        "Write a function that will return the count of distinct case-insensitive alphabetic characters and numeric digits that occur more than once in the input string. The input string can be assumed to contain only alphabets (both uppercase and lowercase) and numeric digits.\n",
        "\n",
        "**Example**\n",
        "```\n",
        "\"abcde\" -> 0 # no characters repeats more than once\n",
        "\"aabbcde\" -> 2 # 'a' and 'b'\n",
        "\"aabBcde\" -> 2 # 'a' occurs twice and 'b' twice (`b` and `B`)\n",
        "\"indivisibility\" -> 1 # 'i' occurs six times\n",
        "\"Indivisibilities\" -> 2 # 'i' occurs seven times and 's' occurs twice\n",
        "\"aA11\" -> 2 # 'a' and '1'\n",
        "\"ABBA\" -> 2 # 'A' and 'B' each occur twice\n",
        "```"
      ]
    },
    {
      "cell_type": "code",
      "metadata": {
        "id": "x4-0xG9h09uE",
        "colab_type": "code",
        "colab": {}
      },
      "source": [
        "#My solution:\n",
        "def duplicate_count(text):\n",
        "  text=text.lower()\n",
        "  count = 0\n",
        "  dic = {}\n",
        "  for i in text:\n",
        "    if i not in dic:\n",
        "      dic[i] = 1\n",
        "    else:\n",
        "      dic[i] += 1\n",
        "  for key, value in dic.items():\n",
        "    if value>1:\n",
        "      count+=1\n",
        "  return count\n",
        "\n",
        "#Codewars Solution:\n",
        "def duplicate_count(s):\n",
        "  return len([c for c in set(s.lower()) if s.lower().count(c)>1])  ## set(str) return dict of unique value"
      ],
      "execution_count": 0,
      "outputs": []
    },
    {
      "cell_type": "code",
      "metadata": {
        "id": "KY74ZYk_2WRO",
        "colab_type": "code",
        "outputId": "67528741-2c60-44c1-accd-f39e8a8b2e8a",
        "colab": {
          "base_uri": "https://localhost:8080/",
          "height": 34
        }
      },
      "source": [
        "duplicate_count('invisIIIbility')"
      ],
      "execution_count": 0,
      "outputs": [
        {
          "output_type": "execute_result",
          "data": {
            "text/plain": [
              "1"
            ]
          },
          "metadata": {
            "tags": []
          },
          "execution_count": 26
        }
      ]
    },
    {
      "cell_type": "markdown",
      "metadata": {
        "id": "9YZ27M5lpgG1",
        "colab_type": "text"
      },
      "source": [
        "#Your order, please\n",
        "\n",
        "**Instruction**\n",
        "\n",
        "Your task is to sort a given string. Each word in the string will contain a single number. This number is the position the word should have in the result.\n",
        "\n",
        "Note: Numbers can be from 1 to 9. So 1 will be the first word (not 0).\n",
        "\n",
        "If the input string is empty, return an empty string. The words in the input String will only contain valid consecutive numbers.\n",
        "\n",
        "**Examples**\n",
        "\n",
        "```\n",
        "\"is2 Thi1s T4est 3a\"  -->  \"Thi1s is2 3a T4est\"\n",
        "\n",
        "\"4of Fo1r pe6ople g3ood th5e the2\"  -->  \"Fo1r the2 g3ood 4of th5e pe6ople\"\n",
        "\n",
        "\"\"  -->  \"\" \n",
        "```"
      ]
    },
    {
      "cell_type": "code",
      "metadata": {
        "id": "PE-X5hi0RZbI",
        "colab_type": "code",
        "colab": {}
      },
      "source": [
        "#My solution\n",
        "def order(sentence):\n",
        "  import re\n",
        "  dic = {}\n",
        "  if sentence != '':\n",
        "    words = sentence.split(' ')\n",
        "    for word in words:\n",
        "      digit = re.search('\\d+', word)\n",
        "      level = word[digit.span()[0]]\n",
        "      dic[word] = level\n",
        "    sorted_x = sorted(dic.items(), key=lambda kv: kv[1])\n",
        "    l = [i[0] for i in sorted_x]\n",
        "    return print(' '.join(l))\n",
        "  else:\n",
        "    return ''\n",
        "\n",
        "#Codewars solution:\n",
        "def order(words):\n",
        "  return ' '.join(sorted(words.split(), key=lambda w:sorted(w))) \n",
        "  #lambda w:sorted(w) will sort each word first and the number will be in position 0, then the 2nd sorted will sort based on this number"
      ],
      "execution_count": 0,
      "outputs": []
    },
    {
      "cell_type": "markdown",
      "metadata": {
        "id": "CH5QQ9N0gEqK",
        "colab_type": "text"
      },
      "source": [
        "#Tower builder:\n",
        "\n"
      ]
    },
    {
      "cell_type": "code",
      "metadata": {
        "id": "m7ZJt96Eei0f",
        "colab_type": "code",
        "colab": {}
      },
      "source": [
        "def tower_builder(n):\n",
        "    return [('*' * i).center(n * 2 - 1) for i in range(1, 2 * n + 1, 2)]"
      ],
      "execution_count": 0,
      "outputs": []
    },
    {
      "cell_type": "code",
      "metadata": {
        "id": "9tgN1GLAhjgX",
        "colab_type": "code",
        "outputId": "744b8bb0-42a2-4be7-838d-86fdeb2f3950",
        "colab": {
          "base_uri": "https://localhost:8080/",
          "height": 34
        }
      },
      "source": [
        "tower_builder(5)"
      ],
      "execution_count": 0,
      "outputs": [
        {
          "output_type": "execute_result",
          "data": {
            "text/plain": [
              "['    *    ', '   ***   ', '  *****  ', ' ******* ', '*********']"
            ]
          },
          "metadata": {
            "tags": []
          },
          "execution_count": 50
        }
      ]
    },
    {
      "cell_type": "code",
      "metadata": {
        "id": "B6E0GUDIhkpD",
        "colab_type": "code",
        "outputId": "d483293e-e069-423a-92e2-49552b09efa3",
        "colab": {
          "base_uri": "https://localhost:8080/",
          "height": 102
        }
      },
      "source": [
        "def tower_builder(n_floor):\n",
        "    window = '*'\n",
        "    total_width = 20  # this may get bigger if you have a very tall building\n",
        "\n",
        "    floor_strings = []\n",
        "    for floor_idx in range(n_floor):\n",
        "        # because widths are always odd\n",
        "        width = 2 * floor_idx + 1\n",
        "        # construct this floor\n",
        "        floor_string = (window*width).center(total_width)\n",
        "        # add it to the list\n",
        "        floor_strings.append(floor_string)\n",
        "\n",
        "    # join them all together with newlines\n",
        "    return '\\n'.join(floor_strings)\n",
        "\n",
        "print(tower_builder(5))"
      ],
      "execution_count": 0,
      "outputs": [
        {
          "output_type": "stream",
          "text": [
            "         *          \n",
            "        ***         \n",
            "       *****        \n",
            "      *******       \n",
            "     *********      \n"
          ],
          "name": "stdout"
        }
      ]
    },
    {
      "cell_type": "markdown",
      "metadata": {
        "id": "weBeEmXEiH8T",
        "colab_type": "text"
      },
      "source": [
        "#Human readable time:"
      ]
    },
    {
      "cell_type": "code",
      "metadata": {
        "id": "Pg-bfulyiu3p",
        "colab_type": "code",
        "colab": {}
      },
      "source": [
        "#My solution:\n",
        "def make_readable(seconds):\n",
        "  return '%02d:%02d:%02d'%(seconds//3600, (seconds-(seconds//3600)*3600)//60, seconds-((seconds//3600)*3600)-((seconds-(seconds//3600)*3600)//60)*60 )\n",
        "\n",
        "#Codewars solution:\n",
        "def make_readable(s):\n",
        "    return '{:02}:{:02}:{:02}'.format(s / 3600, s / 60 % 60, s % 60)"
      ],
      "execution_count": 0,
      "outputs": []
    },
    {
      "cell_type": "markdown",
      "metadata": {
        "id": "L4XozgE3zg9W",
        "colab_type": "text"
      },
      "source": [
        "#Sum of Digits / Digital Root\n",
        "\n",
        "In this kata, you must create a digital root function.\n",
        "\n",
        "A digital root is the recursive sum of all the digits in a number. Given n, take the sum of the digits of n. If that value has more than one digit, continue reducing in this way until a single-digit number is produced. This is only applicable to the natural numbers.\n",
        "\n",
        "Here's how it works:\n",
        "\n",
        "```\n",
        "digital_root(16)\n",
        "=> 1 + 6\n",
        "=> 7\n",
        "\n",
        "digital_root(942)\n",
        "=> 9 + 4 + 2\n",
        "=> 15 ...\n",
        "=> 1 + 5\n",
        "=> 6\n",
        "\n",
        "digital_root(132189)\n",
        "=> 1 + 3 + 2 + 1 + 8 + 9\n",
        "=> 24 ...\n",
        "=> 2 + 4\n",
        "=> 6\n",
        "\n",
        "digital_root(493193)\n",
        "=> 4 + 9 + 3 + 1 + 9 + 3\n",
        "=> 29 ...\n",
        "=> 2 + 9\n",
        "=> 11 ...\n",
        "=> 1 + 1\n",
        "=> 2\n",
        "```"
      ]
    },
    {
      "cell_type": "code",
      "metadata": {
        "id": "cDlp6Xc_f7x-",
        "colab_type": "code",
        "colab": {}
      },
      "source": [
        "#My solution:\n",
        "def digital_root(n):\n",
        "    while len([i for i in str(k)]) >1:\n",
        "      k = sum([int(i) for i in str(k)])\n",
        "    return k\n",
        "#Codewars solution 1:\n",
        "def digital_root(n):\n",
        "  return n%9 or n and 9 \n",
        "\n",
        "#Codewars solution 2:\n",
        "def digital_root(n):\n",
        "    return n if n < 10 else digital_root(sum(map(int,str(n))))\n",
        "  "
      ],
      "execution_count": 0,
      "outputs": []
    },
    {
      "cell_type": "code",
      "metadata": {
        "id": "10HsJ1ruz5c3",
        "colab_type": "code",
        "outputId": "490335db-d55c-45fd-f049-27085dbf6b56",
        "colab": {
          "base_uri": "https://localhost:8080/",
          "height": 34
        }
      },
      "source": [
        "digital_root(123)"
      ],
      "execution_count": 0,
      "outputs": [
        {
          "output_type": "execute_result",
          "data": {
            "text/plain": [
              "9"
            ]
          },
          "metadata": {
            "tags": []
          },
          "execution_count": 58
        }
      ]
    },
    {
      "cell_type": "markdown",
      "metadata": {
        "id": "bIG_--Q-GhsA",
        "colab_type": "text"
      },
      "source": [
        "# Give me a Diamond\n",
        "\n",
        "Rate: 6 kyu\n",
        "\n",
        "Jamie is a programmer, and James' girlfriend. She likes diamonds, and wants a diamond string from James. Since James doesn't know how to make this happen, he needs your help.\n",
        "\n",
        "Task\n",
        "You need to return a string that looks like a diamond shape when printed on the screen, using asterisk (*) characters. Trailing spaces should be removed, and every line must be terminated with a newline character (\\n).\n",
        "\n",
        "Return null/nil/None/... if the input is an even number or negative, as it is not possible to print a diamond of even or negative size.\n",
        "\n",
        "**Examples**\n",
        "\n",
        "```\n",
        "A size 3 diamond:\n",
        "\n",
        " *\n",
        "***\n",
        " *\n",
        "...which would appear as a string of \" *\\n***\\n *\\n\"\n",
        "\n",
        "A size 5 diamond:\n",
        "\n",
        "  *\n",
        " ***\n",
        "*****\n",
        " ***\n",
        "  *\n",
        "...that is: \" *\\n ***\\n*****\\n ***\\n *\\n\"\n",
        "```"
      ]
    },
    {
      "cell_type": "code",
      "metadata": {
        "id": "tCCKyuV5Gh48",
        "colab_type": "code",
        "colab": {}
      },
      "source": [
        "def diamond(n):\n",
        "  while (n%2 == 1) and (n>0):\n",
        "    k=n//2 +1\n",
        "    half1 = [(' '*(int((n-i)/2))+'*' * i) for i in range(1, 2 * k + 1, 2)]\n",
        "    half2 = half1[::-1][1:]\n",
        "    return '\\n'.join(half1+half2)+'\\n'\n",
        "  return None"
      ],
      "execution_count": 0,
      "outputs": []
    },
    {
      "cell_type": "code",
      "metadata": {
        "id": "EbLaMIF1Eri2",
        "colab_type": "code",
        "outputId": "53fe8414-d48c-4f9f-abd9-c99568e98a28",
        "colab": {
          "base_uri": "https://localhost:8080/",
          "height": 123
        }
      },
      "source": [
        "print(diamond(5))"
      ],
      "execution_count": 0,
      "outputs": [
        {
          "output_type": "stream",
          "text": [
            "  *\n",
            " ***\n",
            "*****\n",
            " ***\n",
            "  *\n",
            "\n"
          ],
          "name": "stdout"
        }
      ]
    },
    {
      "cell_type": "markdown",
      "metadata": {
        "id": "DjlcckcWdFIB",
        "colab_type": "text"
      },
      "source": [
        "#Count smiley face:\n",
        "\n",
        "**Description:**\n",
        "\n",
        "Given an array (arr) as an argument complete the function countSmileys that should return the total number of smiling faces.\n",
        "Rules for a smiling face:\n",
        "-Each smiley face must contain a valid pair of eyes. Eyes can be marked as : or ;\n",
        "-A smiley face can have a nose but it does not have to. Valid characters for a nose are - or ~\n",
        "-Every smiling face must have a smiling mouth that should be marked with either ) or D.\n",
        "No additional characters are allowed except for those mentioned.\n",
        "Valid smiley face examples:\n",
        ":) :D ;-D :~)\n",
        "Invalid smiley faces:\n",
        ";( :> :} :]\n",
        "\n",
        "**Example cases:**\n",
        "```\n",
        "countSmileys([':)', ';(', ';}', ':-D']);       // should return 2;\n",
        "countSmileys([';D', ':-(', ':-)', ';~)']);     // should return 3;\n",
        "countSmileys([';]', ':[', ';*', ':$', ';-D']); // should return 1;\n",
        "```\n",
        "Note: In case of an empty array return 0. You will not be tested with invalid input (input will always be an array). Order of the face (eyes, nose, mouth) elements will always be the same\n",
        "Happy coding!"
      ]
    },
    {
      "cell_type": "code",
      "metadata": {
        "id": "DMpmodPfdFWK",
        "colab_type": "code",
        "colab": {}
      },
      "source": [
        "#My solution\"\n",
        "def count_smileys(arr): \n",
        "  return len([i for i in arr if re.search('^(;|:)(~|-|\\s*)(D|\\))$',i)])\n",
        "    "
      ],
      "execution_count": 0,
      "outputs": []
    },
    {
      "cell_type": "code",
      "metadata": {
        "id": "IlodOyVZjLeh",
        "colab_type": "code",
        "colab": {}
      },
      "source": [
        "arr = [1,True, False, 2,3,0,4,5,False,0]\n",
        "def move_zeros(array):\n",
        "    return sorted(array, key=lambda x: x is 0)\n"
      ],
      "execution_count": 0,
      "outputs": []
    },
    {
      "cell_type": "code",
      "metadata": {
        "id": "-gR7R9pQ1C4e",
        "colab_type": "code",
        "outputId": "c45dbf48-dd04-4d71-a82b-434e0c8d264e",
        "colab": {
          "base_uri": "https://localhost:8080/",
          "height": 34
        }
      },
      "source": [
        "move_zeros(arr)"
      ],
      "execution_count": 0,
      "outputs": [
        {
          "output_type": "execute_result",
          "data": {
            "text/plain": [
              "[1, True, False, 2, 3, 4, 5, False, 0, 0]"
            ]
          },
          "metadata": {
            "tags": []
          },
          "execution_count": 139
        }
      ]
    },
    {
      "cell_type": "markdown",
      "metadata": {
        "id": "2yghItKEQwLw",
        "colab_type": "text"
      },
      "source": [
        "#Strip Comments\n",
        "\n",
        "Complete the solution so that it strips all text that follows any of a set of comment markers passed in. Any whitespace at the end of the line should also be stripped out.\n",
        "\n",
        "**Example:**\n",
        "```\n",
        "Given an input string of:\n",
        "\n",
        "apples, pears # and bananas\n",
        "grapes\n",
        "bananas !apples\n",
        "The output expected would be:\n",
        "\n",
        "apples, pears\n",
        "grapes\n",
        "bananas\n",
        "```\n",
        "\n",
        "The code would be called like so:\n",
        "```\n",
        "result = solution(\"apples, pears # and bananas\\ngrapes\\nbananas !apples\", [\"#\", \"!\"])\n",
        "# result should == \"apples, pears\\ngrapes\\nbananas\"\n",
        "```"
      ]
    },
    {
      "cell_type": "code",
      "metadata": {
        "id": "apvWR4S7G6Rh",
        "colab_type": "code",
        "colab": {}
      },
      "source": [
        "def solution(string,markers):\n",
        "    #your code here"
      ],
      "execution_count": 0,
      "outputs": []
    },
    {
      "cell_type": "markdown",
      "metadata": {
        "id": "tJD-6UO_Zrh3",
        "colab_type": "text"
      },
      "source": [
        "#Pete, the baker\n",
        "\n",
        "Rate: 5 kyu\n",
        "\n",
        "Pete likes to bake some cakes. He has some recipes and ingredients. Unfortunately he is not good in maths. Can you help him to find out, how many cakes he could bake considering his recipes?\n",
        "\n",
        "Write a function cakes(), which takes the recipe (object) and the available ingredients (also an object) and returns the maximum number of cakes Pete can bake (integer). For simplicity there are no units for the amounts (e.g. 1 lb of flour or 200 g of sugar are simply 1 or 200). Ingredients that are not present in the objects, can be considered as 0.\n",
        "\n",
        "**Examples:**\n",
        "```\n",
        "# must return 2\n",
        "cakes({flour: 500, sugar: 200, eggs: 1}, {flour: 1200, sugar: 1200, eggs: 5, milk: 200})\n",
        "# must return 0\n",
        "cakes({apples: 3, flour: 300, sugar: 150, milk: 100, oil: 100}, {sugar: 500, flour: 2000, milk: 2000})\n",
        "```"
      ]
    },
    {
      "cell_type": "code",
      "metadata": {
        "id": "M_p0dQYsZr3i",
        "colab_type": "code",
        "colab": {}
      },
      "source": [
        "#My solution:\n",
        "def cakes(recipe, available):\n",
        "  l = []\n",
        "  keyy1 = [i for i,j in recipe.items()]\n",
        "  keyy2 = [i for i,j in available.items()]\n",
        "  if all(elem in keyy2 for elem in keyy1):\n",
        "    for i in keyy1:\n",
        "      l.append(available[i]//recipe[i])  \n",
        "    return max((min(l)),0)\n",
        "  else:\n",
        "    return 0        \n",
        "\n",
        "#Codewars solution:\n",
        "def cakes(recipe, available):\n",
        "  return min(available.get(k, 0)/recipe[k] for k in recipe)\n",
        "\n",
        "#dictionary.get(keyname, value)\n",
        "# keyname---\tRequired. The keyname of the item you want to return the value from\n",
        "# value\t----  Optional. A value to return if the specified key does not exist.\n",
        "# Default value None\n"
      ],
      "execution_count": 0,
      "outputs": []
    },
    {
      "cell_type": "code",
      "metadata": {
        "id": "yFRx27aEa2Js",
        "colab_type": "code",
        "outputId": "508b4287-884d-4593-a5c5-61e497782dde",
        "colab": {
          "base_uri": "https://localhost:8080/",
          "height": 34
        }
      },
      "source": [
        "recipe = {'cream': 200, 'flour': 300, 'sugar': 150, 'milk': 100, 'oil': 100}\n",
        "available = {'sugar': 1700, 'flour': 20000, 'milk': 20000, 'oil': 30000, 'cream': 5000}\n",
        "\n",
        "cakes(recipe, available)"
      ],
      "execution_count": 0,
      "outputs": [
        {
          "output_type": "execute_result",
          "data": {
            "text/plain": [
              "11"
            ]
          },
          "metadata": {
            "tags": []
          },
          "execution_count": 184
        }
      ]
    },
    {
      "cell_type": "code",
      "metadata": {
        "id": "OwqjCKZ_krxk",
        "colab_type": "code",
        "outputId": "c57158d1-184c-4adb-a156-6924d855f164",
        "colab": {
          "base_uri": "https://localhost:8080/",
          "height": 132
        }
      },
      "source": [
        "import re\n",
        "def solution(string,markers):\n",
        "  lines = string.split('\\n')\n",
        "  pattern = []\n",
        "  for m in markers:\n",
        "    for line in lines:\n",
        "      i = re.search(m+'.*(\\n|\\s*)', line)\n",
        "      pattern.append(i.group())\n",
        "  return string\n",
        "\n"
      ],
      "execution_count": 0,
      "outputs": [
        {
          "output_type": "error",
          "ename": "IndentationError",
          "evalue": "ignored",
          "traceback": [
            "\u001b[0;36m  File \u001b[0;32m\"<ipython-input-377-645f178fbbef>\"\u001b[0;36m, line \u001b[0;32m7\u001b[0m\n\u001b[0;31m    i = re.search(m+'.*(\\n|\\s*)', line)\u001b[0m\n\u001b[0m    ^\u001b[0m\n\u001b[0;31mIndentationError\u001b[0m\u001b[0;31m:\u001b[0m expected an indented block\n"
          ]
        }
      ]
    },
    {
      "cell_type": "code",
      "metadata": {
        "id": "9HUprtOflVWk",
        "colab_type": "code",
        "colab": {}
      },
      "source": [
        "markers = ['!', '#']\n",
        "string=\"apples, pears # and bananas\\ngrapes\\nbananas !apples\"\n"
      ],
      "execution_count": 0,
      "outputs": []
    },
    {
      "cell_type": "code",
      "metadata": {
        "id": "Gf9chXTx4nHe",
        "colab_type": "code",
        "outputId": "1c306e76-c1ef-49d6-eab3-1d3139aeff9b",
        "colab": {
          "base_uri": "https://localhost:8080/",
          "height": 221
        }
      },
      "source": [
        "lines = string.split('\\n')\n",
        "pattern = []\n",
        "for m in markers:\n",
        "  for line in lines:\n",
        "    print(line)\n",
        "    i = re.search(m+'.*(\\s*)', line)\n",
        "    pattern.append(i.group())"
      ],
      "execution_count": 0,
      "outputs": [
        {
          "output_type": "stream",
          "text": [
            "apples, pears # and bananas\n"
          ],
          "name": "stdout"
        },
        {
          "output_type": "error",
          "ename": "AttributeError",
          "evalue": "ignored",
          "traceback": [
            "\u001b[0;31m---------------------------------------------------------------------------\u001b[0m",
            "\u001b[0;31mAttributeError\u001b[0m                            Traceback (most recent call last)",
            "\u001b[0;32m<ipython-input-385-53b8cc369b43>\u001b[0m in \u001b[0;36m<module>\u001b[0;34m()\u001b[0m\n\u001b[1;32m      5\u001b[0m     \u001b[0mprint\u001b[0m\u001b[0;34m(\u001b[0m\u001b[0mline\u001b[0m\u001b[0;34m)\u001b[0m\u001b[0;34m\u001b[0m\u001b[0;34m\u001b[0m\u001b[0m\n\u001b[1;32m      6\u001b[0m     \u001b[0mi\u001b[0m \u001b[0;34m=\u001b[0m \u001b[0mre\u001b[0m\u001b[0;34m.\u001b[0m\u001b[0msearch\u001b[0m\u001b[0;34m(\u001b[0m\u001b[0mm\u001b[0m\u001b[0;34m+\u001b[0m\u001b[0;34m'.*(\\s*)'\u001b[0m\u001b[0;34m,\u001b[0m \u001b[0mline\u001b[0m\u001b[0;34m)\u001b[0m\u001b[0;34m\u001b[0m\u001b[0;34m\u001b[0m\u001b[0m\n\u001b[0;32m----> 7\u001b[0;31m     \u001b[0mpattern\u001b[0m\u001b[0;34m.\u001b[0m\u001b[0mappend\u001b[0m\u001b[0;34m(\u001b[0m\u001b[0mi\u001b[0m\u001b[0;34m.\u001b[0m\u001b[0mgroup\u001b[0m\u001b[0;34m(\u001b[0m\u001b[0;34m)\u001b[0m\u001b[0;34m)\u001b[0m\u001b[0;34m\u001b[0m\u001b[0;34m\u001b[0m\u001b[0m\n\u001b[0m",
            "\u001b[0;31mAttributeError\u001b[0m: 'NoneType' object has no attribute 'group'"
          ]
        }
      ]
    },
    {
      "cell_type": "code",
      "metadata": {
        "id": "nVV4CxHU4oEO",
        "colab_type": "code",
        "outputId": "cde1569c-64a5-4de5-f3e5-0464cbfb64d4",
        "colab": {
          "base_uri": "https://localhost:8080/",
          "height": 34
        }
      },
      "source": [
        "lines = string.split('\\n')\n",
        "print(lines)"
      ],
      "execution_count": 0,
      "outputs": [
        {
          "output_type": "stream",
          "text": [
            "['apples, pears grapes', 'bananas ']\n"
          ],
          "name": "stdout"
        }
      ]
    },
    {
      "cell_type": "code",
      "metadata": {
        "id": "_g1CK-725YUB",
        "colab_type": "code",
        "colab": {}
      },
      "source": [
        ""
      ],
      "execution_count": 0,
      "outputs": []
    }
  ]
}